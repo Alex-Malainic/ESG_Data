{
 "cells": [
  {
   "cell_type": "code",
   "execution_count": null,
   "metadata": {},
   "outputs": [],
   "source": [
    "import pandas as pd\n",
    "import numpy as np\n",
    "import matplotlib.pyplot as plt\n",
    "import seaborn as sns\n",
    "df = pd.read_excel('esg_data.xlsx', sheet_name = \"Data\", engine='openpyxl') #in python 3.9 xlsx files are deprecated, so we will use openpyxl\n",
    "\n",
    "df.head()"
   ]
  },
  {
   "cell_type": "code",
   "execution_count": null,
   "metadata": {},
   "outputs": [],
   "source": [
    "#mapping each country to a continent and an income group\n",
    "\n",
    "metadata = pd.read_excel('World_Metadata.xlsx', sheet_name= \"Country - Metadata\", engine= \"openpyxl\")\n",
    "\n",
    "metadata = metadata[['Code', 'Income Group', 'Region']]\n",
    "\n",
    "merged = df.merge(metadata, how = 'left', left_on = 'CountryCode', right_on = 'Code')\n",
    "merged.head()\n",
    "\n"
   ]
  },
  {
   "cell_type": "code",
   "execution_count": null,
   "metadata": {},
   "outputs": [],
   "source": [
    "#unpivoting the original dataframe to collapse the years into 1 column and get rid of useless columns\n",
    "\n",
    "unpivot_df = merged.melt(id_vars = [\"Country\", \"CountryCode\", \"Category\", \"SeriesCode\",'Code', 'Income Group', 'Region'], value_name = \"Value\", var_name = 'Year') \n",
    "unpivot_df = unpivot_df[unpivot_df['Value'] != \"..\"]  #removing .. rows\n",
    "unpivot_df.drop(['CountryCode', 'SeriesCode'], axis = 1, inplace = True)  #dropping the useless columns\n",
    "unpivot_df = unpivot_df[~unpivot_df['Income Group'].isna()] # clear out NA income groups as these were just custom categories\n",
    "unpivot_df.head()"
   ]
  },
  {
   "cell_type": "code",
   "execution_count": null,
   "metadata": {},
   "outputs": [],
   "source": [
    "def check_lenght(dataframe):\n",
    "    for i in range(2011, 2021):\n",
    "        current_year = f\"{i}\"\n",
    "        year_data = dataframe[dataframe.Year == int(current_year)]\n",
    "        print(current_year + \" has \" + str(len(year_data)) + \" rows\")\n",
    "\n",
    "check_lenght(unpivot_df)\n",
    "\n",
    "# a good tradeoff will be to choose the year 2018 as the year for our current analysis, due to the high 2019 and 2020 having a low nr of rows\n"
   ]
  },
  {
   "cell_type": "code",
   "execution_count": null,
   "metadata": {},
   "outputs": [],
   "source": [
    "#next, to be able to analyse the data in a more code-efficient way, we will repivot the data\n",
    "\n",
    "dataframe_2018 = unpivot_df[unpivot_df.Year == 2018]\n",
    "new_df = dataframe_2018.pivot(index = ['Country', 'Income Group','Region'], columns = 'Category', values = 'Value') #pivot the data\n",
    "new_df = new_df.fillna(new_df.mean()) #fill N/A values with the mean\n",
    "\n",
    "new_df.head()"
   ]
  },
  {
   "cell_type": "code",
   "execution_count": null,
   "metadata": {},
   "outputs": [],
   "source": [
    "def correlation_finder(df, threshold):\n",
    "    coeff = df.corr(method = 'pearson') #pearson correlation of all variables\n",
    "\n",
    "    #find the combinations of variables that have their pearson correlation coefficient > threshhold or < -threshhold\n",
    "    correlations = coeff.where((coeff< -threshold) | (coeff > threshold) & (coeff !=1)).stack() \n",
    "    return correlations \n",
    "\n",
    "corr = correlation_finder(new_df, 0.5)\n",
    "corr.filter(like = 'CO2 emissions (metric tons per capita)') #check the variables highly correlated with CO2 emissions\n",
    "\n"
   ]
  },
  {
   "cell_type": "code",
   "execution_count": null,
   "metadata": {},
   "outputs": [],
   "source": [
    "keep_variables = ['CO2 emissions (metric tons per capita)','Agriculture, forestry, and fishing, value added (% of GDP)', 'Government Effectiveness: Estimate', 'Individuals using the Internet (% of population)','Life expectancy at birth, total (years)', 'Renewable energy consumption (% of total final energy consumption)']\n",
    "\n",
    "final_df = new_df.filter(keep_variables, axis=1)\n",
    "final_df.rename(columns = {\"Agriculture, forestry, and fishing, value added (% of GDP)\" : \"AFF\" ,\"CO2 emissions (metric tons per capita)\" : \"CO2 Emissions\", \n",
    "                            \"Government Effectiveness: Estimate\": \"Government Effectiveness\", \"Individuals using the Internet (% of population)\" : \"Individuals using the Internet\", \n",
    "                            \"Life expectancy at birth, total (years)\": \"Life Expectancy\", \"Renewable energy consumption (% of total final energy consumption)\": \"Renewable Energy Consumption\"}, \n",
    "                            inplace=True)\n",
    "final_df.reset_index(inplace=True)\n",
    "final_df.head()\n",
    "\n"
   ]
  },
  {
   "cell_type": "code",
   "execution_count": null,
   "metadata": {},
   "outputs": [],
   "source": [
    "final_df.to_csv('Final_Dataset.csv')"
   ]
  },
  {
   "cell_type": "code",
   "execution_count": null,
   "metadata": {},
   "outputs": [],
   "source": [
    "# #Transform categorical variable \"Income Group\" into numerical\n",
    "\n",
    "# income_categories = pd.unique(small_df['Income Group'])\n",
    "# income_categories\n",
    "\n",
    "# incomes = []\n",
    "\n",
    "# for i in small_df['Income Group']:\n",
    "#     if i == \"Low income\":\n",
    "#         incomes.append(1)\n",
    "#     elif i == \"Lower middle income\":\n",
    "#         incomes.append(2)\n",
    "#     elif i == \"Upper middle income\":\n",
    "#         incomes.append(3)\n",
    "#     else:\n",
    "#         incomes.append(4)\n",
    "\n",
    "# small_df['Income Group'] = incomes\n"
   ]
  }
 ],
 "metadata": {
  "interpreter": {
   "hash": "0b752d2113e90b269db4a795809a12e44ab3a60ebf940da3f714d418a5e2bde9"
  },
  "kernelspec": {
   "display_name": "Python 3.10.0 64-bit",
   "language": "python",
   "name": "python3"
  },
  "language_info": {
   "codemirror_mode": {
    "name": "ipython",
    "version": 3
   },
   "file_extension": ".py",
   "mimetype": "text/x-python",
   "name": "python",
   "nbconvert_exporter": "python",
   "pygments_lexer": "ipython3",
   "version": "3.9.0"
  },
  "orig_nbformat": 4
 },
 "nbformat": 4,
 "nbformat_minor": 2
}
